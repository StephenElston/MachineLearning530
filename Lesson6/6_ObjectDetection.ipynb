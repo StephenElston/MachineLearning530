{
 "cells": [
  {
   "cell_type": "markdown",
   "id": "c7d476ed",
   "metadata": {},
   "source": [
    "# Object Detection     \n",
    "\n",
    "## Machine Learning 530   \n",
    "\n",
    "### Steve Elston"
   ]
  },
  {
   "cell_type": "markdown",
   "id": "e8e5de2f",
   "metadata": {},
   "source": [
    "## Introduction   \n",
    "\n",
    "This lab will give you some hands on experience training a feature pyramid network object detector. The model you will work with is based on the RetinaNet model for multi-scale object detection.  \n",
    "\n",
    "Before continuing, you will need to establish a Google Colab account. If you do not have an account you can sign up on [this page](https://colab.research.google.com/signup). A free account will be adequate for this lab. \n",
    "\n",
    "------------------\n",
    "> **Note:** If you do not wish to run the notebook in Colab, you can download the example notebook and run it in another environment. Depending on the environment, doing so may require minor changes in the notebooks. \n",
    "------------------\n"
   ]
  },
  {
   "cell_type": "markdown",
   "id": "584ee2d2",
   "metadata": {},
   "source": [
    "## Starting and running the notebook\n",
    "\n",
    "You will now start and execute a Jupyter notebook containing a Keras feature pyramid network object detector. Go to [this page](https://keras.io/examples/vision/retinanet/), and click **View in Colab**. Once the notebook launches in Colab read the provided commentary and examine the code for each cell. Then, execute the code all the cells in order. The model will be trained for 100 epochs, with each epoch requiring considerable computing time. \n",
    "\n",
    "\n",
    "> **Note:** For this assignment, you are required to submit this notebook with the exercises complete along with the executed notebook from Colab. To submit your executed notebook you must use File -> Download -> Download .ipynb. You can then upload your notebook into Canvas.  "
   ]
  },
  {
   "cell_type": "markdown",
   "id": "0e329e70",
   "metadata": {},
   "source": [
    "> **Exercise 6-1:** Examine the code for the `AnchorBox` class and answer the following questions:     \n",
    "> 1. What are the strides for the convolutional down-sampling pyramid?    \n",
    "> 2. At each of these strides, what is the square root of the area of the anchor boxes?     \n",
    "> 3. Why must the number of strides and areas specified be equal in terms of the feature pyramid?    \n",
    "> 4. What are the aspect ratios of the bounding boxes? \n",
    "> 5. How many total anchor boxes are used in the feature pyramid network? Explain your calculation. **Hint**, the result should be a fairly small number, don't over-think this problem! "
   ]
  },
  {
   "cell_type": "markdown",
   "id": "77d393fd",
   "metadata": {},
   "source": [
    "> **Answers:**  \n",
    "> 1.    \n",
    "> 2.   \n",
    "> 3.      \n",
    "> 4.   \n",
    "> 5.    "
   ]
  },
  {
   "cell_type": "markdown",
   "id": "58973d0d",
   "metadata": {},
   "source": [
    "> **Exercise 6-2:** Examine the code for the `FeaturePyramid` class. The `__init__` method creates the backbone CNN. Looking at the `get_backbone` function shows that it instantiates a ResNet50 model and returning feature maps at several depths from the model.  The `__init__` method then defines the convolution operators and an up-sample operation for the FPN. Keeping in mind the behavior of the [keras.layers.Conv2D](https://keras.io/api/layers/convolution_layers/convolution2d/) and [keras.layers.UpSampling2D](https://www.tensorflow.org/api_docs/python/tf/keras/layers/UpSampling2D) functions, answer the following questions:   \n",
    "> 1. How many feature maps from the ResNet50 backbone are used to construct the FPN? \n",
    "> 2. Do the tensors comprising the upward pyramid ever need to be stored in memory and why? \n",
    "> 3. How many scales levels with what number of channels comprise the downward (up-sampled) pyramid? \n",
    "> 4. Consider the steps to compute the `p3_output`, `p4_output`, and `p5_output`, tensors. Which of these tensors represents the smallest scale features and what is the reason this? Be specific in your references to the tensors comprising the upward and downward pyramid. Note that the numbering is from shallow to deep for the upward pyramid tensors.           \n",
    "> 5. Which tensor in the downward pyramid represents the greatest semantic value features and what is the reason this? Be specific in your references to the tensors comprising the upward and downward pyramid.     "
   ]
  },
  {
   "cell_type": "markdown",
   "id": "593db7e3",
   "metadata": {},
   "source": [
    "> **Answers:**   \n",
    "> 1.   \n",
    "> 2.    \n",
    "> 3.    \n",
    "> 4.    \n",
    "> 5.   "
   ]
  },
  {
   "cell_type": "markdown",
   "id": "68ee8ff6",
   "metadata": {},
   "source": [
    "> **Exercise 6-3:** Examine the code for the loss functions used for this multi-task learning problem and provide short answers to the following questions:   \n",
    "> 1. What kind of machine learning problem is solved for the bounding box parameter estimation task and what type of loss function is used and what are the advantages of this loss function for this problem in terms of noisy data and backpropagation for learning?        \n",
    "> 2. What type of loss function is used for the object classification task and what is the advantage of this loss function necessary for this problem?    \n",
    "> 3. From examination of just the last line of the `call` method how is the multi-task loss function computed. "
   ]
  },
  {
   "cell_type": "markdown",
   "id": "9d52ad58",
   "metadata": {},
   "source": [
    "> **Answers:**  \n",
    "> 1.     \n",
    "> 2.    \n",
    "> 3.      "
   ]
  },
  {
   "cell_type": "markdown",
   "id": "bd47d0fb",
   "metadata": {},
   "source": [
    "> **Exercise 6-4:** Examine the two detection example images shown and answer these questions:    \n",
    "> 1. For the bus image how many scales of objects are shown and what are they?   \n",
    "> 2. For the objects detected in the bus image, which one has the highest confidence score and which one has the lowest confidence score. What are these scores? You will need to look carefully at the blue text.    \n",
    "> 3. Why might the position of the objects in the image affect these confidence scores?  \n",
    "> 4. For the image of the tennis player, how many scales of objects are shown and what are they?   "
   ]
  },
  {
   "cell_type": "markdown",
   "id": "38f176d6",
   "metadata": {},
   "source": [
    "> **Answers:** \n",
    "> 1.       \n",
    "> 2.        \n",
    "> 3.    \n",
    "> 4.    "
   ]
  },
  {
   "cell_type": "markdown",
   "id": "b68235e6",
   "metadata": {},
   "source": [
    "#### Copyright 2022, Stephen F Elston. All rights reserved. "
   ]
  }
 ],
 "metadata": {
  "kernelspec": {
   "display_name": "Python 3 (ipykernel)",
   "language": "python",
   "name": "python3"
  },
  "language_info": {
   "codemirror_mode": {
    "name": "ipython",
    "version": 3
   },
   "file_extension": ".py",
   "mimetype": "text/x-python",
   "name": "python",
   "nbconvert_exporter": "python",
   "pygments_lexer": "ipython3",
   "version": "3.7.3"
  }
 },
 "nbformat": 4,
 "nbformat_minor": 5
}
