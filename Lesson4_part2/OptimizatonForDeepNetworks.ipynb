{
 "cells": [
  {
   "cell_type": "markdown",
   "metadata": {},
   "source": [
    "# Optimization for Neural Network Training\n",
    "## Machine Learning 410\n",
    "## Stephen Elston\n"
   ]
  },
  {
   "cell_type": "markdown",
   "metadata": {},
   "source": [
    "## 1.0 Introduction\n",
    "\n",
    "Deep neural networks are trained by **learning** a set of weights. The optimal weights are learned by **minimizing the loss function** for the neural network. This minimization is performed using an **optimization algorithm**. Thus, optimization algorithms are an essential component in our neural network tool box.   \n",
    "\n",
    "In this lesson you will become familiar with the basic optimization algorithms used to train deep neural networks, along with their pitfalls. The nonlinear nature of neural networks leads to several serious problems with local gradients. As a result of the multiple nonlinearities the local gradient can exhibit complex behavior. Further, the local gradient can be quite different from the larger-scale global behavior of the loss function gradient. \n",
    "\n",
    "The high dimensionality of the neural network training optimization problems makes detailed understanding of optimization behavior extremely difficult. There is one dimension for each model weight (parameter). Thus, the optimization is performed over a non-linear surface with millions of dimensions. Despite several decades of research much of the measurable progress has been based on empirical experience rather than theory.   \n",
    "\n",
    "\n",
    "****\n",
    "**Required reading list** from the GBC book:\n",
    "- 8.0\n",
    "- 8.1\n",
    "- 8.1.1\n",
    "- 8.1.3\n",
    "- 8.2\n",
    "- 8.2.1\n",
    "- 8.2.2\n",
    "- 8.2.3\n",
    "- 8.2.4\n",
    "- 8.2.5\n",
    "- 8.2.7\n",
    "- 8.2.8\n",
    "- 8.3\n",
    "- 8.3.1\n",
    "- 8.3.2\n",
    "- 8.4\n",
    "- 8.5\n",
    "- 8.5.1\n",
    "- 8.5.2 \n",
    "- 8.5.3\n",
    "- 8.5.4\n"
   ]
  },
  {
   "cell_type": "markdown",
   "metadata": {},
   "source": [
    "### 1.1 Local convergence of optimization algorithms\n",
    "\n",
    "In an idea case, an minimization problem is **convex**. By convex, we mean that the gradient always points in the direction of the **global minimum** of the loss function. Unfortunately, with nonlinear optimization problems, like neural network training, there is no guarantee that the minimization problem is convex. Further the loss function can have multiple **local minimum**. \n",
    "\n",
    "Keeping the foregoing in mind, the minimization of the loss function will at least be convex locally around a minimum. To understand the behavior of a loss function around a minimum we can expand it as a second order Taylor series of the change in the weights from optimization step $l$ to $l+1$:\n",
    "\n",
    "$$J(W^{(l+1)}) = J(W^{(l)}) + (W^{(l+1)} - W^{(i)})\\vec{g} + \\frac{1}{2}(W^{(l+1)} - W^{(i)})^T H (W^{(l+1)} - W^{(i)}) $$\n",
    "\n",
    "where,   \n",
    "$W^{(l)}$ is the tensor of weights at step $l$,  \n",
    "$\\vec{g}$ is the gradient vector,  \n",
    "$H$ is the **Hessian** matrix. \n",
    "\n",
    "The Hessian is a matrix of second partial derivatives. You can think of the Hessian as being the rate of change of the gradient or the gradient of the gradient. For a vector gradient $f(\\vec{x})$ the Hessian is:\n",
    "\n",
    "$$H \\big(f(\\vec{x}) \\big) = \\begin{bmatrix}\n",
    "  \\frac{\\partial^2 f(\\vec{x})}{\\partial x^2_1} & \n",
    "  \\frac{\\partial^2 f(\\vec{x})}{\\partial x_2 \\partial x_1} & \n",
    "  \\cdots & \n",
    "  \\frac{\\partial^2 f(\\vec{x})}{\\partial x_n \\partial x_1}\\\\\n",
    "   \\frac{\\partial^2 f(\\vec{x})}{\\partial x_1 \\partial x_2} &\n",
    "   \\frac{\\partial^2 f(\\vec{x})}{\\partial x^2_2} & \n",
    "   \\cdots &\n",
    "   \\frac{\\partial^2 f(\\vec{x})}{\\partial x_1 \\partial x_n}\\\\\n",
    "   \\vdots & \\vdots & \\vdots & \\vdots \\\\\n",
    "   \\frac{\\partial^2 f(\\vec{x})}{\\partial x_1 \\partial x_n} &\n",
    "   \\frac{\\partial^2 f(\\vec{x})}{\\partial x_2 \\partial x_n} & \n",
    "   \\cdots &\n",
    "   \\frac{\\partial^2 f(\\vec{x})}{\\partial x^2_n} \n",
    " \\end{bmatrix}$$\n",
    " \n",
    "The Hessian has several useful properties. \n",
    "\n",
    "- The Hessian is symmetric, since $\\frac{\\partial^2 f(\\vec{x})}{\\partial x_1 \\partial x_2} = \\frac{\\partial^2 f(\\vec{x})}{\\partial x_2 \\partial x_1}$.\n",
    "- If the eigenvalues of the Hessian are all positive, the curvature of the gradient is upward, indicating and minimum point in $f(\\vec{x})$. The optimization is convex, at least locally. In this case we say the Hessian is **positive definite**.\n",
    "- If the eigenvalues of the Hessian are all negative, the curvature of the gradient is downward, indicating and maximum point in $f(\\vec{x})$. In this case we say the Hessian is **negative definite**.\n",
    "- A Hessian with mixed sign eigenvalues indicates gradient with upward curvature in some dimensions and downward curvature in other dimensions. This situation with mixed curvature is known as a **saddle point**. \n",
    "- For a Gaussian process the Hessian is the inverse of the covariance matrix. The eigenvalues of each matrix are just the inverse of the other. \n",
    "\n",
    "For a step size $\\alpha$ we can rewrite the first equation as:\n",
    "\n",
    "$$J(W^{(l)}- \\alpha \\vec{g}) = J(W^{(l)}) - \\alpha \\vec{g}^T \\vec{g} + \\frac{1}{2} \\alpha^2 \\vec{g}^T H \\vec{g}$$\n",
    "\n",
    "The minimum point of $J(W^{(l)}- \\alpha \\vec{g})$ occurs were the gradient is zero in all dimensions. This is evident from the fact that at this point:\n",
    "$$J(W^{(l)}) = J(W^{(l)}- \\alpha \\vec{g})$$ \n",
    "\n",
    "From this point no further reduction in the loss function is possible. The optimal step size for the quadratic approximation is then: \n",
    "\n",
    "$$\\alpha^* = \\frac{\\vec{g}^T \\vec{g}}{\\vec{g}^T H \\vec{g}}$$\n",
    "\n",
    "But, what happens if the Hessian is not well behaved? One measure of 'behavior' for a Hessian is the **condition number**:\n",
    "\n",
    "$$\\kappa(H) = \\frac{|\\lambda_{max}(H)|}{|\\lambda_{min}(H)|}$$\n",
    "\n",
    "where,  \n",
    "$|\\lambda_{max}(H)|$ is the absolute value of the largest eigenvalue of H.  \n",
    "$|\\lambda_{min}(H)|$ is the absolute value of the smallest eigenvalue of H.   \n",
    "\n",
    "The condition number of the Hessian has serious implications for the rate of convergence of optimization algorithms. If the condition number is small, the Hessian is well conditioned and the gradient has similar scale in all dimensions. This happy situation leads to rapid convergence. An ideal condition number is close to 1. \n",
    "\n",
    "However, if the Hessian is **ill-conditioned**, having a large condition number, the scale of the gradient will be quite different in different dimensions. An optimization algorithm will converge quickly along eigenvector directions corresponding to large eigenvalues. However, convergence will be slow along the direction of eigenvectors with small eigenvalues. This situation has been describe as slowly meandering down a long narrow valley. In fact, for real-world stochastic problems (e.g. noisy data), the optimization algorithm may not converge at all along some eigenvector directions!"
   ]
  },
  {
   "cell_type": "markdown",
   "metadata": {},
   "source": [
    "### 1.2 Multimodal loss function and global optimization\n",
    "\n",
    "The nonlinear nature of the hidden layers can lead to loss functions with significant local structure in a high dimensional space. Given this complexity, it is quite possible there are local minimum, local maximum, or saddle points. In general, there is no guarantee that the global minimum of the objective function can ever be found.     \n",
    "\n",
    "In the early days of neural network research it was generally thought that loss function minimization got 'stuck' at local minimum or saddle points. However, recent experience indicates that this may not be the case. In many real-world cases, the training loss function continues to decrease with epochs. If the optimization algorithm were stuck, this could not be the case. We have explored this behavior in previous lessons.    \n",
    "\n",
    "Continued convergence of the optimization process does not mean that convergence will be rapid. Empirical experience indicates that slow convergence is a common problem. This situation occurs when the Hessian of the loss function is ill-conditioned. "
   ]
  },
  {
   "cell_type": "markdown",
   "metadata": {},
   "source": [
    "### 1.3 Vanishing and exploding gradients\n",
    "\n",
    "Some common pitfalls of deep neural network loss functions are **vanishing gradients** and **exploding gradients**. Vanishing gradients arise when multiple small gradients are encountered in backpropagation. Exploding gradients arise when rapid changes in the loss function, sometimes referred to as **cliffs**, are encountered in the loss function.   \n",
    "\n",
    "A deep linear model analogy can aid in understanding vanishing gradients. In this simple model each layer has the same weights, represented by the tensor $W$. We can compute an eigenvalue-eigenvector decomposition of $W$:\n",
    "\n",
    "$$W = Q \\Lambda Q^T$$   \n",
    "where,   \n",
    "$Q$ is the unitary eigenvector matrix,   \n",
    "$\\Lambda$ is the diagonal matrix of eigenvalues. \n",
    "\n",
    "At the nth layer a signal entering the top of the network will be weighted by $W^n$ which we can write:\n",
    "\n",
    "$$W = \\big( Q \\Lambda Q^T \\big)^n = Q \\Lambda^n Q^T$$\n",
    "\n",
    "In order to have a stable network all the eigenvalues must be less than 1. Therefore $\\Lambda^T$ is a diagonal matrix of increasingly small numbers as $n$ increases. The net effect is that gradients from deep in the networks can be exponentially smaller than from shallow layers. When the backpropagation is applied, the gradient effectively vanishes toward 0. \n",
    "\n",
    "Exploding gradients arise from sudden changes in curvature of the loss function. Encountering these 'cliffs' results in a gradient decent algorithm overshooting the minimum point, sometimes by an extreme amount. The Hessian represents the curvature of the loss function or the rate of change of the gradient. The eigen-decomposition of the Hessian:\n",
    "\n",
    "$$H(J(W)) = Q \\Lambda Q^T = Q diag(\\lambda) Q^T$$\n",
    "\n",
    "Consider what happens when the loss function has high local curvature. At one optimization step, the eigenvalues $diag(\\lambda)$ are all small and well behaved. The Hessian has a small condition number. At the next step the eigenvalues can become enormous (much greater than 1), since the curvature of the loss function is changing so rapidly. Since only some eigenvalues grow large, the condition number becomes extremely large.  This leads to the exploding gradient! \n",
    "\n",
    "Fortunately, there is a simple solution the exploding gradient problem, **gradient clipping**. As the name implies, gradient clipping is nothing more than imposing a hard maximum constraint on the gradient. In practice, this simple algorithm have proven to be quite effective. \n",
    "\n",
    "***\n",
    "**Note:** All optimizers in Keras have parameters to clip individual weights or the norm of the gradient. \n",
    "***"
   ]
  },
  {
   "cell_type": "markdown",
   "metadata": {},
   "source": [
    "### 1.4 Flat spots\n",
    "\n",
    "With complex loss function it is common to have regions that are **flat**. These reasons are often called **plateaus**. In other words, areas with negligible gradient. These regions can result in extremely slow learning. There are a number of solutions for this problems. The learning rate can be increased or momentum can be used. These approaches are discussed later in this lesson. \n",
    "\n",
    "****\n",
    "**Note:** Keras has a callback that can be used to take action when slow learning is encountered.  \n",
    "****"
   ]
  },
  {
   "cell_type": "markdown",
   "metadata": {
    "collapsed": true
   },
   "source": [
    "## 2.0 Batch gradient decent for backpropagation\n",
    "\n",
    "Recall, that we train neural networks using the **backpropagation** algorithm. The backpropagation algorithm requires several components:\n",
    "\n",
    "1. A **loss function** to measure how well our representation matches the function we are trying to learn. \n",
    "2. A method to propagate changes in the representatuion (weights) through the complex network For this we will use the **chain rule of calculus** to compute **gradients** of the representation. In the general case, this process requires using automatic differentiation methods. \n",
    "3. An **optimization algorithm** that uses the gradients to minimize the loss function.  \n",
    "\n",
    "The backpropagration algorithm learns the optimal weights for the neural network by taking small steps in the direction of the **local gradient**. By *local gradient* we mean the gradient of $J(W)$ computed at each set of weights $W$ as the algorithm proceeds. \n",
    "\n",
    "Once we have the gradient of the loss function we can update the tensor of weights using the formulation below.\n",
    "\n",
    "$$W_{t+1} = W_t + \\alpha \\nabla_{W} J(W_t) $$  \n",
    "where  \n",
    "$W_t = $ the tensor of weights or model parameters at step $t$.   \n",
    "$\\alpha\\ = $ step size or learning rate.  \n",
    "$J(W) = $ loss function given the weights.  \n",
    "$\\nabla_{W} J(W) = $ gradient of $J$ with respect to the weights $W$.  \n",
    "\n",
    "It should be evident that the back propagation algorithm is a form of gradient decent. The weights are updated in small steps following the local gradient of $J(W)$ down hill. At the **termination condition** $J(W)$ should be at or very near the minimum possible value. \n",
    "\n"
   ]
  },
  {
   "cell_type": "markdown",
   "metadata": {},
   "source": [
    "### 2.1 Compuational example\n",
    "\n",
    "The basic idea is simple, but actually optimizing a complex neural network is another mater altogether. To demonstrate the concept, we will work on a very simple 2-d problem. The loss function in this case is the mean square error (MSE). So, in effect, the minimum MSE is the same as the maximum likelihood (MLE) solution. \n",
    "\n",
    "The loss function for a Gaussian process is:\n",
    "\n",
    "$$J(\\hat{x}) = \\frac{1}{N} \\sum_{i = 1}^{N} \\big( \\vec{x}_i - \\hat{x} \\big)^2$$  \n",
    "\n",
    "where;  \n",
    "$x = $ the sample data, which is a 2d tensor in this case of dimension $N x 2$ where $N$ is the number of samples,    \n",
    "$\\hat{x} = $ the vector of means we want to estimate.  \n",
    "\n",
    "We can compute the gradient for each dimension of as follows:\n",
    "\n",
    "$$\\frac{ \\partial \\hat{x}}{ \\partial x_j} = \\frac{2}{N} \\sum_{i = 1}^{N} \\big(  x_{ij} - \\tilde{x}_j \\big)$$  \n",
    "\n",
    "where,  \n",
    "$x_j = $ the jth dimension of $\\vec{x}$,   \n",
    "$x_{ij} = $ the ith component of the jth dimension of $\\vec{x}$,   \n",
    "$\\tilde{x}_i = $ is the current estimate of ith component of $\\hat{x}$. \n"
   ]
  },
  {
   "cell_type": "markdown",
   "metadata": {},
   "source": [
    "Execute the code in the cell below to load the packages required to execute the rest of this notebook. "
   ]
  },
  {
   "cell_type": "code",
   "execution_count": null,
   "metadata": {},
   "outputs": [],
   "source": [
    "import keras\n",
    "from keras.datasets import mnist\n",
    "import keras.utils.np_utils as ku\n",
    "import keras.models as models\n",
    "import keras.layers as layers\n",
    "from keras import regularizers\n",
    "from keras.layers import Dropout\n",
    "from keras import optimizers\n",
    "import numpy as np\n",
    "import numpy.random as nr\n",
    "import numpy.linalg as nll\n",
    "import sklearn.model_selection as ms\n",
    "import time\n",
    "import matplotlib.pyplot as plt\n",
    "import math\n",
    "\n",
    "%matplotlib inline"
   ]
  },
  {
   "cell_type": "markdown",
   "metadata": {},
   "source": [
    "The code in the cell below simulates a bivariate Normal distribution with high covariance between the two dimensions. Execute this code."
   ]
  },
  {
   "cell_type": "code",
   "execution_count": null,
   "metadata": {},
   "outputs": [],
   "source": [
    "cov = np.array([[1.0, 0.99], [0.99, 1.0]])\n",
    "mean = np.array([1.0, 2.0])\n",
    "\n",
    "sample = nr.multivariate_normal(mean, cov, 500)\n",
    "sample.shape"
   ]
  },
  {
   "cell_type": "markdown",
   "metadata": {},
   "source": [
    "As already mentioned, for a Gaussian process, the covariance matrix is the inverse the Hessian. This means that both matrices have the same condition number. The code in the cell below computes and displays the eigenvalues of the covariance matrix and the condition number. Execute this code and examine the result. "
   ]
  },
  {
   "cell_type": "code",
   "execution_count": null,
   "metadata": {},
   "outputs": [],
   "source": [
    "eigenvalues = nll.eig(cov)[0]\n",
    "print('Eigenvalues = ' + str(eigenvalues))\n",
    "print('The condition number = ' + str(eigenvalues[0]/eigenvalues[1]))"
   ]
  },
  {
   "cell_type": "markdown",
   "metadata": {},
   "source": [
    "The covariance matrix has a high condition number. This optimization problem will deliberately strain the algorithms. \n",
    "\n",
    "****\n",
    "**Note:** In a real-world problem, the condition number can be improved by simple Z-Score scaling. However, for the purpose of demonstration we will skip this step. \n",
    "****\n",
    "\n",
    "Next, execute the code in the cell below to plot the simulated data and examine the result. "
   ]
  },
  {
   "cell_type": "code",
   "execution_count": null,
   "metadata": {},
   "outputs": [],
   "source": [
    "plt.scatter(sample[:,0], sample[:,1])\n",
    "plt.xlabel('Dimension 1')\n",
    "plt.ylabel('Dimension 2')\n",
    "plt.title('Sample data')"
   ]
  },
  {
   "cell_type": "markdown",
   "metadata": {},
   "source": [
    "With the simulated data prepared, it is time to try gradient decent! The code in the cell below implements a basic **batch gradient decent** algorithm. This algorithm is considered batch gradient decent since all of the cases are used to compute each update of the gradient. \n",
    "\n",
    "The work is done in the `while` loop. The termination condition is the l2 norm of the gradient is less than a set value or the maximum number of iterations has been executed. The learning rate is fixed for each optimization step. An array is output at the end that gives the path history of the optimizer. \n",
    "\n",
    "Execute this code and examine the result. "
   ]
  },
  {
   "cell_type": "code",
   "execution_count": null,
   "metadata": {
    "scrolled": false
   },
   "outputs": [],
   "source": [
    "def compute_gradient(x, estimate):\n",
    "    mult = 2.0/x.shape[0]\n",
    "    diff = np.subtract(x, estimate)    \n",
    "    return mult * np.sum(diff, axis = 0)\n",
    "\n",
    "def grad_decent(x, estimate, lr, stopping, max_its = 100):\n",
    "    out = estimate\n",
    "    out = out.reshape((1,2))\n",
    "    err = 10000000.0 ## starting criteria for graident metric\n",
    "    i = 1\n",
    "    while(err > stopping and i < max_its):\n",
    "        grad = compute_gradient(x, estimate)\n",
    "        estimate = estimate + lr * grad\n",
    "        out = np.append(out, estimate.reshape((1,2)))\n",
    "        err = np.std(grad)\n",
    "        i = i + 1\n",
    "    out = out.reshape((i, 2))    \n",
    "    print('Number of iterations = ' + str(i))   \n",
    "    print('Final gradient value = ' + str(np.std(grad)))\n",
    "    print('MLE = ' + str(out[i-1:]))\n",
    "    return out\n",
    "\n",
    "lr = 0.1\n",
    "stopping = 0.01\n",
    "#start = np.array([5.0,-1.0])\n",
    "start = np.array([0.0,0.0])\n",
    "steps = grad_decent(sample, start, lr, stopping)"
   ]
  },
  {
   "cell_type": "markdown",
   "metadata": {},
   "source": [
    "The optimizer appears to have converged to reasonable values in a small number of steps. The MLE can be compared to the location values used in the simulation, $1.0, 2.0 $.\n",
    "\n",
    "Next execute the code in the cell below to visualize the trajectory taken by the optimizer.  The red points in the plot show the solutions found a each step of the gradient decent algorithm.  "
   ]
  },
  {
   "cell_type": "code",
   "execution_count": null,
   "metadata": {
    "scrolled": false
   },
   "outputs": [],
   "source": [
    "def plot_decent(x, steps):\n",
    "    plt.scatter(x[:,0], x[:,1])\n",
    "    plt.scatter(steps[:,0], steps[:,1], color = 'red')\n",
    "\n",
    "plot_decent(sample, steps)    "
   ]
  },
  {
   "cell_type": "markdown",
   "metadata": {},
   "source": [
    "The path of convergence looks good. You can see that the rate of convergence of each optimization step decreases as the algorithm approaches convergence. This is expected, since the gradient is decreasing as the optimizer converges.   "
   ]
  },
  {
   "cell_type": "markdown",
   "metadata": {},
   "source": [
    "## 3.0 Stochastic gradient decent\n",
    "\n",
    "The **stochastic gradient decent (SGD)** algorithm (Nemirovshi and Yudin, 1978) is the workhorse of deep neural network training. As opposed to batch gradient decent, SGD computes the expected gradient using a **mini-batch** Bernoulli sampled from the full set of cases. Mini-batch optimization is often referred to as **online optimization** since the optimizer algorithm can update the solution as cases arrive. \n",
    "\n",
    "The basic idea of stochastic optimization is using a Bernoulli random sample of the data to estimate the **expected value** of the weights. The weight update for SGD then becomes:\n",
    "\n",
    "$$W_{t+1} = W_t + \\alpha\\ E_{\\hat{p}data}\\Big[ \\nabla_{W} J(W_t) \\Big]$$ \n",
    "\n",
    "where,  \n",
    "$E_{\\hat{p}data} \\big[ \\big]$ is the expected value of the gradient given the Bernoulli sample of the data $\\hat{p}data$.\n",
    "\n",
    "Since the SGD algorithm works on mini-batches, it is highly scalable when compared to the batch gradient decent. The later must keep all cases in memory.  \n",
    "\n",
    "Choosing batch size can require some tuning. If the batch is too small, the gradient estimate will be poor. Further, hardware resources will not be fully utilized. Large batches require significant memory. Further, large batches can slow down the computation of each gradient step.  \n",
    "\n",
    "Empirically, SGD has good convergence properties. This behavior seems to arise since the mini-batch samples provide a better exploration of the loss function space. It seems to be the case that the variations in the gradient from one mini-batch sample to another help the algorithm escape from saddle points or other areas of the loss function with poor convergence properties. In fact, for very large datasets, the SGD algorithm often converges before the first pass through the data is completed. \n",
    "\n",
    "The pseudo code for the SGD algorithm is:\n",
    "\n",
    "`\n",
    "Random_sort(cases)\n",
    "while(grad > stopping_criteria):\n",
    "    mini-batch = sample_next_n(cases)\n",
    "    grad = compute_expected_grad(mini_batch)\n",
    "    weights = update_weights(weights, grad)`\n",
    "    \n",
    "Notice that if the sampling continues for more than one cycle through the cases, the samples are biased. In practice, this small bias does not seem to mater much.     "
   ]
  },
  {
   "cell_type": "markdown",
   "metadata": {},
   "source": [
    "### 3.1 Example of basic SGD\n",
    "\n",
    "The code in the cell below implements a basic SGD algorithm. The code is nearly identical to the batch gradient decent function. The only difference is the the Bernoulli sampling using `numpy.random.choice`.\n",
    "\n",
    "Execute this code and examine the result. "
   ]
  },
  {
   "cell_type": "code",
   "execution_count": null,
   "metadata": {},
   "outputs": [],
   "source": [
    "def sgd(x, estimate, lr, stopping, batch_size = 8, max_its = 100):\n",
    "    out = estimate\n",
    "    out = out.reshape((1,2))\n",
    "    err = 10000000.0 #\n",
    "    # starting criteria for graident metric\n",
    "    i = 1\n",
    "    indx = range(x.shape[0])\n",
    "    while((err > stopping) and (i < max_its)):\n",
    "        sample_idx = nr.choice(indx, batch_size)\n",
    "        grad = compute_gradient(x[sample_idx,:], estimate)\n",
    "        estimate = estimate + lr * grad\n",
    "        out = np.append(out, estimate.reshape((1,2)))\n",
    "        err = np.std(grad)\n",
    "        i = i + 1\n",
    "    out = out.reshape((i, 2))    \n",
    "    print('Number of iterations = ' + str(i))   \n",
    "    print('Final gradient value = ' + str(np.std(grad)))\n",
    "    print('MLE = ' + str(out[i-1:]))\n",
    "    return out\n",
    "\n",
    "lr = 0.1\n",
    "stopping = 0.01\n",
    "#start = np.array([5.0,-1.0])\n",
    "start = np.array([0.0,0.0])\n",
    "steps = sgd(sample, start, lr, stopping)"
   ]
  },
  {
   "cell_type": "markdown",
   "metadata": {},
   "source": [
    "The SGD algorithm converges to nearly the same result in a similar number of steps as the batch gradient decent algorithm. Using mini-batches has not changed the result significantly.  \n",
    "\n",
    "Next, execute the code in the cell below to visualize the optimization trajectory. The red points in the plot show the solutions found using each mini-batch in the steps of the SGD algorithm.  "
   ]
  },
  {
   "cell_type": "code",
   "execution_count": null,
   "metadata": {
    "scrolled": false
   },
   "outputs": [],
   "source": [
    "plot_decent(sample, steps)   "
   ]
  },
  {
   "cell_type": "markdown",
   "metadata": {},
   "source": [
    "Compare the trajectory of the SGD optimizer to the batch gradient decent optimizer. In appears that th SGD optimizer converges faster initially, but then seems to wander a bit near convergence. This makes sense, since the expected gradient from the small mini-batches is likely to be noisier than the batch gradient. "
   ]
  },
  {
   "cell_type": "markdown",
   "metadata": {},
   "source": [
    "### 3.2 Adding momentum to SGD\n",
    "\n",
    "With a poorly conditioned loss function, SGD is known to 'zig-zag' back and forth as the optimizer moves toward convergence. This problem can be severe in some case, leading to many wasted optimization step that provide only minimal reduction in the loss function at best. To overcome this problem, in  1988 paper Rummelhart, et. al., proposed adding a **momentum** term to the gradient update. \n",
    "\n",
    "Recall from Newtonian mechanics that $momentum = m \\cdot v$, where $m$ is the mass and \n",
    "\n",
    "$v$ is the velocity   \n",
    "\n",
    ". If we assume that $m = 1$ then momentum is the same as velocity. The model weight update then becomes a weighted sum of velocity (momentum) and the gradient:\n",
    "\n",
    "$$v^{(l)} = momentum \\cdot v^{(l - 1)} + lr \\cdot \\nabla_{W} J(W^{(l)})\\\\\n",
    "W^{(l+1)} = W^{(l)} + v^{(l)}$$   \n",
    "where,   \n",
    "$v^{(l)}$ is the velocity at step $l$,    \n",
    "$momentum$ is the momentum multiplier,    \n",
    "$lr$ is the learning rate.   \n",
    "\n",
    "The code in the cell below implements a basic version of the SGD algorithm with momentum. The algorithm is identical to ordinary SGD except the update of the weight estimate. \n",
    "\n",
    "Execute this code and examine the result."
   ]
  },
  {
   "cell_type": "code",
   "execution_count": null,
   "metadata": {},
   "outputs": [],
   "source": [
    "def sgd_momentum(x, estimate, lr, stopping, momentum, batch_size = 8, max_its = 100):\n",
    "    out = estimate\n",
    "    out = out.reshape((1,2))\n",
    "    v = np.zeros((1, x.shape[1]))\n",
    "    err = 10000000.0 ## starting criteria for graident metric\n",
    "    i = 1\n",
    "    indx = range(x.shape[0])\n",
    "    while((err > stopping) and (i < max_its)):\n",
    "        sample_idx = nr.choice(indx, batch_size)\n",
    "        grad = compute_gradient(x[sample_idx,:], estimate)\n",
    "        v = momentum * v + lr * grad\n",
    "        estimate = estimate + v\n",
    "        out = np.append(out, estimate.reshape((1,2)))\n",
    "        err = np.std(grad)\n",
    "        i = i + 1\n",
    "    out = out.reshape((i, 2))    \n",
    "    print('Number of iterations = ' + str(i))   \n",
    "    print('Final gradient value = ' + str(np.std(grad)))\n",
    "    print('MLE = ' + str(out[i-1:]))\n",
    "    return out\n",
    "\n",
    "lr = 0.1\n",
    "stopping = 0.01\n",
    "#start = np.array([5.0,-1.0])\n",
    "start = np.array([0.0,0.0])\n",
    "momentum = 0.1\n",
    "steps = sgd_momentum(sample, start, lr, stopping, momentum)"
   ]
  },
  {
   "cell_type": "markdown",
   "metadata": {},
   "source": [
    "These results are nearly identical to those obtained for the basic SGD algorithm. Given the convex nature of the problem, this is not terribly surprising. \n",
    "\n",
    "Now, execute the code below to display and examine the trajectory of the optimization algorithm."
   ]
  },
  {
   "cell_type": "code",
   "execution_count": null,
   "metadata": {
    "scrolled": true
   },
   "outputs": [],
   "source": [
    "plot_decent(sample, steps)  "
   ]
  },
  {
   "cell_type": "markdown",
   "metadata": {},
   "source": [
    "This result is largely the same as for the basic SGD algorithm. "
   ]
  },
  {
   "cell_type": "markdown",
   "metadata": {},
   "source": [
    "### 3.3 SGD with Keras\n",
    "\n",
    "Keras has an extensive library of optimizers, including a full-featured SGD method. The Keras website has somewhat sparse [documentation on the available optimizers](https://keras.io/optimizers/), with references for some of the algorithms.\n",
    "\n",
    "As a first step before trying out the Keras SGD optimizer we need to create test and training data set in the form of numpy arrays. Execute the code in the cell below that does just this. "
   ]
  },
  {
   "cell_type": "code",
   "execution_count": null,
   "metadata": {},
   "outputs": [],
   "source": [
    "indx = range(sample.shape[0])\n",
    "nr.seed(9988)\n",
    "indx = ms.train_test_split(indx, test_size = 100)\n",
    "x_train = np.ravel(sample[indx[0],[0]])\n",
    "y_train = np.ravel(sample[indx[0],[0]])\n",
    "x_test = np.ravel(sample[indx[1],[1]])\n",
    "y_test = np.ravel(sample[indx[1],[1]])"
   ]
  },
  {
   "cell_type": "markdown",
   "metadata": {},
   "source": [
    "With the data prepared with can get to work with training and testing the neural network model with the SGD optimizer. To create a problem where a neural network can be applied, we will solve the regression problem for the simulated data we have been using. \n",
    "\n",
    "The SGD optimizer in Keras has a number of arguments including for: \n",
    "- learning rate: `lr`, \n",
    "- gradient clipping: `clipnorm`,\n",
    "- decay rate: `decay`, \n",
    "- momentum: `momentum`. \n",
    "\n",
    "Examine the code below for details. Execute the code and examine the results. "
   ]
  },
  {
   "cell_type": "code",
   "execution_count": null,
   "metadata": {},
   "outputs": [],
   "source": [
    "def plot_loss(history):\n",
    "    '''Function to plot the loss vs. epoch'''\n",
    "    train_loss = history.history['loss']\n",
    "    test_loss = history.history['val_loss']\n",
    "    x = list(range(1, len(test_loss) + 1))\n",
    "    plt.plot(x, test_loss, color = 'red')\n",
    "    plt.plot(x, train_loss)\n",
    "    plt.xlabel('Epoch')\n",
    "    plt.ylabel('Loss')\n",
    "    plt.title('Loss vs. Epoch')\n",
    "\n",
    "\n",
    "## First define the layers of the regression model. \n",
    "nn = models.Sequential()\n",
    "nn.add(layers.Dense(128, activation = 'relu', input_shape = (1, ),\n",
    "                        kernel_regularizer=regularizers.l2(0.01)))\n",
    "nn.add(Dropout(0.5))\n",
    "nn.add(layers.Dense(128, activation = 'relu',\n",
    "                        kernel_regularizer=regularizers.l2(0.01)))\n",
    "nn.add(layers.Dense(1))\n",
    "\n",
    "## Define the SGD optimizer\n",
    "sgd = optimizers.SGD(lr=0.01, decay=1e-6, momentum=0.5, nesterov=False)\n",
    "## The optimizer is used at the compile stage\n",
    "nn.compile(optimizer = sgd, loss = 'mse', metrics = ['mae'])\n",
    "\n",
    "## Define the callback list\n",
    "filepath = 'my_model_file.hdf5' # define where the model is saved\n",
    "callbacks_list = [\n",
    "    keras.callbacks.EarlyStopping(\n",
    "        monitor = 'val_loss', # Use accuracy to monitor the model\n",
    "        patience = 1 # Stop after one step with lower accuracy\n",
    "    ),\n",
    "    keras.callbacks.ModelCheckpoint(\n",
    "        filepath = filepath, # file where the checkpoint is saved\n",
    "        monitor = 'val_loss', # Don't overwrite the saved model unless val_loss is worse\n",
    "        save_best_only = True # Only save model if it is the best\n",
    "    )\n",
    "]\n",
    "\n",
    "## Now fit the model\n",
    "start = time.time() ## Get the system time at strat of execution\n",
    "history = nn.fit(x_train, y_train, \n",
    "                  epochs = 40, batch_size = 1,\n",
    "                  validation_data = (x_test, y_test),\n",
    "                  callbacks = callbacks_list,  # Call backs argument here\n",
    "                  verbose = 0)\n",
    "end = time.time() ## Get the system time at the end of execution\n",
    "## Execution time is the difference between the end and start times\n",
    "print('Execution time = ' + str(end - start))\n",
    "\n",
    "## Visualize the outcome\n",
    "plot_loss(history)"
   ]
  },
  {
   "cell_type": "markdown",
   "metadata": {},
   "source": [
    "Notice that training loss continues to decrease even after test loss increases. This is a commonly observed behavior when training neural networks. The optimizer continues to reduce the training loss, even after the model is over fit.   \n",
    "\n",
    "We should check that the learned model actually makes sense. The code in the cell below predicts score values for the test dataset, prints the RMSE and plots the result. Execute this code and examine the outcome. "
   ]
  },
  {
   "cell_type": "code",
   "execution_count": null,
   "metadata": {},
   "outputs": [],
   "source": [
    "def plot_reg(x, y_score, y):\n",
    "    ax = plt.figure(figsize=(6, 6)).gca() # define axis\n",
    "    \n",
    "    ## Get the data in plot order\n",
    "    xy = sorted(zip(x,y_score))\n",
    "    x = [x for x, _ in xy]\n",
    "    y_score = [y for _, y in xy]\n",
    "\n",
    "    ## Plot the result\n",
    "    plt.plot(x, y_score, c = 'red')\n",
    "    plt.scatter(x, y)\n",
    "\n",
    "\n",
    "predicted = nn.predict(x_test)\n",
    "plot_reg(x_test, predicted, y_test)\n",
    "print(np.std(predicted - y_test))"
   ]
  },
  {
   "cell_type": "markdown",
   "metadata": {},
   "source": [
    "These results seem reasonable given the data. "
   ]
  },
  {
   "cell_type": "markdown",
   "metadata": {},
   "source": [
    "## 4.0 Adaptive gradient decent algorithms\n",
    "\n",
    "Up until now, we have been worked with algorithms with constant learning rates. In many cases, the gradient of the loss function will change multiple times before convergence is achieved. For example, the gradient may decrease and then increase again. In these cases, a constant learning rate results in slow convergence. There are several possible approaches to changing learning rates of optimization algorithms. \n",
    "\n",
    "One simple approach is use **learning rate decay**. The learning rate decays from a starting value and decreases as the optimization proceeds. This approach is effective in cases where the gradient decreases fairly steadily as the optimization proceeds. The lower learning rate reduces the chance that the algorithm over-shoots the optimum point and then wanders around with slow convergence. We have seen this behavior in the foregoing SGD examples.    \n",
    "\n",
    "The second approach is to use algorithms with an **adaptive learning rate**. As the name implies, adaptive learning rate algorithms change their rate of convergence depending on the gradient. Ideally, if the learning rate should increase when plateaus and poorly conditioned areas of the loss function are encountered. The learning rate should decrease when the gradient of the loss function is better behaved. In practice, these ideals are hard to achieve and researchers have created many algorithms using various heuristics to adapt learning rate. "
   ]
  },
  {
   "cell_type": "markdown",
   "metadata": {},
   "source": [
    "### 4.1 An example of adaptive learning, Adam\n",
    "\n",
    "The Adam algorithm (Kingma and Ba, 2014) uses a fairly complicated set of huristics adapt the learning rate. Adam uses both first and second order momentum measures. Second order momentum is analogous to kinetic energy in Newtonian mechanics. Further, Adam encorporates exponential decay in both momentum measures to ensure that more recent values dominate the learning rate updates. \n",
    "\n",
    "The code in the cell below implements a basic version of Adam. Examine this code for details, execute this code and check the results."
   ]
  },
  {
   "cell_type": "code",
   "execution_count": null,
   "metadata": {},
   "outputs": [],
   "source": [
    "def adam(x, estimate, lr, stopping, momentum, ke, batch_size = 32, max_its = 1000):\n",
    "    out = estimate\n",
    "    out = out.reshape((1,2))\n",
    "    s = np.zeros((1, x.shape[1]))\n",
    "    r = np.zeros((1, x.shape[1]))\n",
    "    grad_norm = 10000000.0 ## starting criteria for graident metric\n",
    "    i = 1\n",
    "    indx = range(x.shape[0])\n",
    "    while((grad_norm > stopping) and (i < max_its)):\n",
    "        sample_idx = nr.choice(indx, batch_size)\n",
    "        grad = compute_gradient(x[sample_idx,:], estimate)\n",
    "        s = momentum * s + (momentum - 1.0) * grad\n",
    "        s_tilde = s/(1 - momentum**i)\n",
    "        r = ke * r + (ke - 1.0) * np.multiply(grad, grad)\n",
    "        r_tilde = np.sqrt(np.abs(r/(1 - ke**i)))\n",
    "        delta = np.array([lr* ss/(rr + 0.000001) for ss, rr in zip(s_tilde, r_tilde)])\n",
    "        estimate = estimate - delta \n",
    "        out = np.append(out, estimate.reshape((1,2)))\n",
    "        grad_norm = np.std(grad) \n",
    "        i = i + 1\n",
    "    out = out.reshape((i, 2))    \n",
    "    print('Number of iterations = ' + str(i))   \n",
    "    print('Final gradient value = ' + str(np.std(grad)))\n",
    "    print('MLE = ' + str(out[i-1:]))\n",
    "    return out\n",
    "\n",
    "lr = 0.1\n",
    "stopping = 0.01\n",
    "#start = np.array([5.0,-1.0])\n",
    "start = np.array([0.0,0.0])\n",
    "momentum = 0.1\n",
    "ke = 0.1\n",
    "steps = adam(sample, start, lr, stopping, momentum, ke)"
   ]
  },
  {
   "cell_type": "markdown",
   "metadata": {},
   "source": [
    "These results are not too different from the SGD algorithms. \n",
    "\n",
    "Now, exectute the code below and examine the results."
   ]
  },
  {
   "cell_type": "code",
   "execution_count": null,
   "metadata": {
    "scrolled": false
   },
   "outputs": [],
   "source": [
    "plot_decent(sample, steps)  "
   ]
  },
  {
   "cell_type": "markdown",
   "metadata": {},
   "source": [
    "The trajectory of the Adam optimizer is considerably different than SGD. Notice how the trajectory 'zig-zags' toward convergence. This is likely the result of the poor conditioning of the problem. "
   ]
  },
  {
   "cell_type": "markdown",
   "metadata": {},
   "source": [
    "### 4.2 Adaptive optimization with Keras\n",
    "\n",
    "Now, let's try adaptive optimization with Keras. We will use one of the mostly widely used adaptive algorithms, RMSprop (Hinton, 2012). Like Adam, RMSprop accumulates a measure of the squared gradient to change the learning rate. An exponential decay is applied to the accumulated squared gradient to ensure that more recent experience dominates the learning rate. \n",
    "\n",
    "Examine the code below for details. Excute the code and examine the results. "
   ]
  },
  {
   "cell_type": "code",
   "execution_count": null,
   "metadata": {},
   "outputs": [],
   "source": [
    "## First define the regression model. \n",
    "nn = models.Sequential()\n",
    "nn.add(layers.Dense(128, activation = 'relu', input_shape = (1, ),\n",
    "                        kernel_regularizer=regularizers.l2(0.01)))\n",
    "nn.add(Dropout(0.5))\n",
    "nn.add(layers.Dense(128, activation = 'relu',\n",
    "                        kernel_regularizer=regularizers.l2(0.01)))\n",
    "nn.add(layers.Dense(1))\n",
    "\n",
    "## Define the RMS optimizer\n",
    "RMS = optimizers.RMSprop(lr=0.01)\n",
    "nn.compile(optimizer = RMS, loss = 'mse', metrics = ['mae'])\n",
    "\n",
    "## Now fit the model\n",
    "start = time.time() # The time as execution start\n",
    "history = nn.fit(x_train, y_train, \n",
    "                  epochs = 40, batch_size = 1,\n",
    "                  validation_data = (x_test, y_test),\n",
    "                  callbacks = callbacks_list,  # Call backs argument here\n",
    "                  verbose = 0)\n",
    "end = time.time() # Time at execution endf\n",
    "print('Execution time = ' + str(end - start))\n",
    "\n",
    "## Visualize the outcome\n",
    "plot_loss(history)"
   ]
  },
  {
   "cell_type": "markdown",
   "metadata": {},
   "source": [
    "Notice that RMSprop converges in fewer epochs than SGD for this situation. The same type of over-fitting of the model is also evident. \n",
    "\n",
    "Once again, we should check that the learned model actually makes sense. The code in the cell below predicts score values for the test dataset, prints the RMSE and plots the result. Execute this code and examine the outcome. "
   ]
  },
  {
   "cell_type": "code",
   "execution_count": null,
   "metadata": {},
   "outputs": [],
   "source": [
    "predicted = nn.predict(x_test)\n",
    "plot_reg(x_test, predicted, y_test)\n",
    "print(np.std(predicted - y_test))"
   ]
  },
  {
   "cell_type": "markdown",
   "metadata": {},
   "source": [
    "This result is similar to the one achieved with SGD, but perhaps a bit better and faster. "
   ]
  },
  {
   "cell_type": "markdown",
   "metadata": {
    "collapsed": true
   },
   "source": [
    "## 5.0 Weight initial values\n",
    "\n",
    "When training deep neural networks the initial values chosen for the weights can have a significant effect on the results. If weights are all set to the same initial value several possible problems will arise:\n",
    "- Some of the weights may be linearly dependent. In this case, some weights will change together during training and not be correctly learned. \n",
    "- Some weights will become **stuck** at the initial value and are never learned. This is special case of the first problem, for the most part. \n",
    "\n",
    "Fortunately, the solution to this problem is simple; **randomize** the starting values of the weights.  This process is sometimes referred to as adding **fuzz** to the initial weights. A number of schemes have been tried. For example, initial weight values can be drawn from a Gaussian or Normal distribution. In practice, drawing the initial values from a Uniform distribution works as well as any other scheme.    "
   ]
  },
  {
   "cell_type": "markdown",
   "metadata": {
    "collapsed": true
   },
   "source": [
    "#### Copyright 2018, 2019, Stephen  F Elston. All rights reserved. "
   ]
  },
  {
   "cell_type": "code",
   "execution_count": null,
   "metadata": {},
   "outputs": [],
   "source": []
  }
 ],
 "metadata": {
  "anaconda-cloud": {},
  "kernelspec": {
   "display_name": "Python 3",
   "language": "python",
   "name": "python3"
  },
  "language_info": {
   "codemirror_mode": {
    "name": "ipython",
    "version": 3
   },
   "file_extension": ".py",
   "mimetype": "text/x-python",
   "name": "python",
   "nbconvert_exporter": "python",
   "pygments_lexer": "ipython3",
   "version": "3.7.3"
  }
 },
 "nbformat": 4,
 "nbformat_minor": 1
}
